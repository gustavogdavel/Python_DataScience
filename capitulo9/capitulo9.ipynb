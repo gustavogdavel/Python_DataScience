{
 "cells": [
  {
   "cell_type": "markdown",
   "id": "bf4f34ff",
   "metadata": {},
   "source": [
    "# Capítulo 9 - Colocando em Prática o Que Você Sabe"
   ]
  },
  {
   "cell_type": "markdown",
   "id": "adf541da",
   "metadata": {},
   "source": [
    "## Contextualizando Problemas e Dados"
   ]
  },
  {
   "cell_type": "markdown",
   "id": "680a4492",
   "metadata": {},
   "source": [
    "De maneira geral, ao se deparar com os dados, deve-se examinar criticamente o problema e os recursos disponíveis e criar o ambiente para resolvê-los"
   ]
  },
  {
   "cell_type": "markdown",
   "id": "041ffad2",
   "metadata": {},
   "source": [
    "### Avaliando um problema de Data Science"
   ]
  },
  {
   "cell_type": "markdown",
   "id": "91ca968e",
   "metadata": {},
   "source": [
    "Na primeira avaliação de um problema, deve-se considerar:\n",
    "- Os dados disponíveis em termos de acessibilidade, quantidade e qualidade: Esteja ciente da confiabilidade dos dados e faça uma análise crítica.\n",
    "- Os métodos viáveis para fazer a análise do conjunto de dados: Comece usando abordagens simples, e nunca se apaixone por uma técnica em particular.\n",
    "- As perguntas que deseja responder e como medir se obteve uma resposta satisfatoria: Entender quais benefícios seu projeto trará.\n"
   ]
  },
  {
   "cell_type": "markdown",
   "id": "5702137a",
   "metadata": {},
   "source": [
    "## Considerando a arte da criação de atributos"
   ]
  },
  {
   "cell_type": "markdown",
   "id": "ca69f42b",
   "metadata": {},
   "source": [
    "Muitas vezes, deve-se realizar transformações nos dados para poder trabalhar, por exemplo, os dados numericos estarão em formato string na fonte de dados e será preciso converte-los."
   ]
  },
  {
   "cell_type": "markdown",
   "id": "0663df22",
   "metadata": {},
   "source": [
    "### Combinando variáveis"
   ]
  },
  {
   "cell_type": "markdown",
   "id": "f2e9cdab",
   "metadata": {},
   "source": [
    "Os dados geralmente vêm em formatos que não funcionam para um algoritmo. Por exemplo, as vezes para uma mesma equação você precisa buscar dados em diferentes tabelas e fazer essa combinação."
   ]
  },
  {
   "cell_type": "markdown",
   "id": "d3ad07c1",
   "metadata": {},
   "source": [
    "### Entendendo a compartimentalização e a discretização"
   ]
  },
  {
   "cell_type": "markdown",
   "id": "77a4b4f5",
   "metadata": {},
   "source": [
    "A ação de separar valores em categorias(ou intervalos), melhora a precisão de modelos preditivos e reduz ruidos."
   ]
  },
  {
   "cell_type": "markdown",
   "id": "2382f0e7",
   "metadata": {},
   "source": [
    "### Usando variáveis indicadoras"
   ]
  },
  {
   "cell_type": "markdown",
   "id": "6c7cb442",
   "metadata": {},
   "source": [
    "Serve para dados que existam apenas aa opções 'verdadeiro' e 'falso', assumindo valores '0' ou '1' "
   ]
  },
  {
   "cell_type": "markdown",
   "id": "1a2c39d7",
   "metadata": {},
   "source": [
    "### Transformando as distribuições"
   ]
  },
  {
   "cell_type": "markdown",
   "id": "66f9f6da",
   "metadata": {},
   "source": [
    "\"Distribuição\" é a forma como os dados estão organizados. Algumas vezes os valores apresentarão assimetria e deve-se estudar a possiblidade de transformar para se parecerem com umas distribuição normal. Algumas transformações são:\n",
    "- Logarítmica e Exponencial: np.log(x) e np.exp(x)\n",
    "- Inversa, Raiz-quadrada e Raiz-Cubica: 1/x, np.sqrt(x) e x**(1.0/3.0)\n",
    "- Transformações polinomiais como: x* * 2, x* * 3, e assim por diante"
   ]
  },
  {
   "cell_type": "markdown",
   "id": "a4889254",
   "metadata": {},
   "source": [
    "## Realizando operações em arrays"
   ]
  },
  {
   "cell_type": "code",
   "execution_count": 3,
   "id": "88ea0221",
   "metadata": {},
   "outputs": [
    {
     "name": "stdout",
     "output_type": "stream",
     "text": [
      "[6 8 8]\n"
     ]
    }
   ],
   "source": [
    "import numpy as np\n",
    "\n",
    "dataset = np.array([[2,4,6,8,3,2,5],\n",
    "                   [7,5,3,1,6,8,0], \n",
    "                   [1,3,2,1,0,0,8]])\n",
    "print(np.max(dataset, axis=1) - np.min(dataset, axis=1))\n"
   ]
  },
  {
   "cell_type": "markdown",
   "id": "a6f929b9",
   "metadata": {},
   "source": [
    "A linha `print(np.max(dataset, axis=1) - np.min(dataset, axis=1))` calcula a diferença entre os valores máximos e mínimos de cada linha do conjunto de dados.\n",
    "\n",
    "A função `np.max()` é aplicada ao dataset com o argumento axis=1, o que indica que a operação de máximo deve ser aplicada ao longo do eixo das colunas. Isso resulta em um array unidimensional contendo os valores máximos de cada linha.\n",
    "\n",
    "Da mesma forma, a função `np.min()` é aplicada ao dataset com axis=1, resultando em um array unidimensional contendo os valores mínimos de cada linha."
   ]
  },
  {
   "cell_type": "markdown",
   "id": "468fc445",
   "metadata": {},
   "source": [
    "### Realizando aritmetica simples em vetores e raizes"
   ]
  },
  {
   "cell_type": "code",
   "execution_count": 4,
   "id": "02b1cdc1",
   "metadata": {},
   "outputs": [
    {
     "name": "stdout",
     "output_type": "stream",
     "text": [
      "[0.15 0.2  0.22 0.75 0.4  0.35]\n"
     ]
    }
   ],
   "source": [
    "a = np.array([15.0,20.0,22.0,75.0,40.0,35.0])\n",
    "a = a*.01\n",
    "print(a)"
   ]
  },
  {
   "cell_type": "markdown",
   "id": "6f08d66b",
   "metadata": {},
   "source": [
    "Multiplica cada elemento do array `a` por 0.01. Essa operação é realizada elemento por elemento, o que resulta na multiplicação de cada valor do array por 0.01."
   ]
  },
  {
   "cell_type": "markdown",
   "id": "741a6fb7",
   "metadata": {},
   "source": [
    "### Multiplicando vetores por matrizes"
   ]
  },
  {
   "cell_type": "code",
   "execution_count": 5,
   "id": "ed6a0002",
   "metadata": {},
   "outputs": [
    {
     "name": "stdout",
     "output_type": "stream",
     "text": [
      "[ 60  80 100 120]\n"
     ]
    }
   ],
   "source": [
    "a = np.array([2,4,6,8])\n",
    "b = ([[1,2,3,4],\n",
    "     [2,3,4,5],\n",
    "     [3,4,5,6],[4,5,6,7]])\n",
    "c = np.dot(a,b)\n",
    "\n",
    "print(c)"
   ]
  },
  {
   "cell_type": "markdown",
   "id": "f7daf480",
   "metadata": {},
   "source": [
    "A função `np.dot(a, b)` realiza o cálculo do produto de matrizes multiplicando cada elemento de a pelos elementos correspondentes nas colunas de b, somando esses produtos e gerando um novo array com os resultados."
   ]
  },
  {
   "cell_type": "markdown",
   "id": "4b819ee9",
   "metadata": {},
   "source": [
    "### Multiplicando matrizes"
   ]
  },
  {
   "cell_type": "code",
   "execution_count": 6,
   "id": "aee0ee87",
   "metadata": {},
   "outputs": [
    {
     "name": "stdout",
     "output_type": "stream",
     "text": [
      "[[60 80]\n",
      " [50 66]]\n"
     ]
    }
   ],
   "source": [
    "a = np.array([[2,4,6,8],\n",
    "             [1,3,5,7]])\n",
    "b = np.array([[1,2],\n",
    "             [2,3],\n",
    "             [3,4],\n",
    "             [4,5]])\n",
    "c= np.dot(a,b)\n",
    "print(c)"
   ]
  },
  {
   "cell_type": "markdown",
   "id": "e7a0833b",
   "metadata": {},
   "source": [
    "Cada linha na primeira matriz é multiplicado pelas colunas da segunda. Por exemplo, para obter o valor 50 exibido na linha 2 coluna 1 da saída correspondemos os valores na linha 2 da matriz `a` com a coluna 1 da matris `b`, desta forma: 1 * 1 + 3 * 2 + 5 * 3 + 7 * 4"
   ]
  },
  {
   "cell_type": "code",
   "execution_count": null,
   "id": "3f355369",
   "metadata": {},
   "outputs": [],
   "source": []
  }
 ],
 "metadata": {
  "kernelspec": {
   "display_name": "Python 3 (ipykernel)",
   "language": "python",
   "name": "python3"
  },
  "language_info": {
   "codemirror_mode": {
    "name": "ipython",
    "version": 3
   },
   "file_extension": ".py",
   "mimetype": "text/x-python",
   "name": "python",
   "nbconvert_exporter": "python",
   "pygments_lexer": "ipython3",
   "version": "3.9.12"
  }
 },
 "nbformat": 4,
 "nbformat_minor": 5
}
