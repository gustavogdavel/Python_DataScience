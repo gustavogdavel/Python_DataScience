{
 "cells": [
  {
   "cell_type": "markdown",
   "id": "9b6ab2cb",
   "metadata": {},
   "source": [
    "# Capítulo 7 - Condicionando os dados"
   ]
  },
  {
   "cell_type": "markdown",
   "id": "2a14b4a2",
   "metadata": {},
   "source": [
    "## Descobrindo o que existe nos dados"
   ]
  },
  {
   "cell_type": "code",
   "execution_count": 1,
   "id": "a3df1322",
   "metadata": {},
   "outputs": [
    {
     "name": "stdout",
     "output_type": "stream",
     "text": [
      "  Number  String Boolean\n",
      "0      1   First    True\n",
      "1      2  Second   False\n",
      "2      3   Third    True\n",
      "3      3   Third    True\n",
      "\n",
      "3    True\n",
      "dtype: bool\n"
     ]
    },
    {
     "name": "stderr",
     "output_type": "stream",
     "text": [
      "C:\\Users\\55279\\AppData\\Local\\Temp\\ipykernel_13512\\3731539087.py:15: FutureWarning: The frame.append method is deprecated and will be removed from pandas in a future version. Use pandas.concat instead.\n",
      "  df = df.append(row_s)\n",
      "C:\\Users\\55279\\AppData\\Local\\Temp\\ipykernel_13512\\3731539087.py:15: FutureWarning: The frame.append method is deprecated and will be removed from pandas in a future version. Use pandas.concat instead.\n",
      "  df = df.append(row_s)\n",
      "C:\\Users\\55279\\AppData\\Local\\Temp\\ipykernel_13512\\3731539087.py:15: FutureWarning: The frame.append method is deprecated and will be removed from pandas in a future version. Use pandas.concat instead.\n",
      "  df = df.append(row_s)\n",
      "C:\\Users\\55279\\AppData\\Local\\Temp\\ipykernel_13512\\3731539087.py:15: FutureWarning: The frame.append method is deprecated and will be removed from pandas in a future version. Use pandas.concat instead.\n",
      "  df = df.append(row_s)\n"
     ]
    }
   ],
   "source": [
    "from lxml import objectify #analisa arquivos lxml\n",
    "import pandas as pd\n",
    "\n",
    "xml = objectify.parse(open('XMLData2.xml'))\n",
    "root = xml.getroot()\n",
    "df = pd.DataFrame(columns=('Number', 'String', 'Boolean'))\n",
    "\n",
    "for i in  range(0,4):\n",
    "    obj = root.getchildren()[i].getchildren()\n",
    "    row = dict(zip(['Number', 'String', 'Boolean'],\n",
    "                  [obj[0].text, obj[1].text,\n",
    "                  obj[2].text]))\n",
    "    row_s = pd.Series(row)\n",
    "    row_s.name = i\n",
    "    df = df.append(row_s)\n",
    "    \n",
    "search = pd.DataFrame.duplicated(df)\n",
    "print(df)\n",
    "print()\n",
    "print(search[search == True])"
   ]
  },
  {
   "cell_type": "markdown",
   "id": "49186867",
   "metadata": {},
   "source": [
    "Resumindo, o código lê um arquivo XML, extrai os dados contidos nele e cria um DataFrame do pandas a partir desses dados. Ele também verifica se há linhas duplicadas no DataFrame resultante."
   ]
  },
  {
   "cell_type": "markdown",
   "id": "fbc018ee",
   "metadata": {},
   "source": [
    "## Removendo duplicatas"
   ]
  },
  {
   "cell_type": "code",
   "execution_count": 2,
   "id": "72c48181",
   "metadata": {},
   "outputs": [
    {
     "name": "stdout",
     "output_type": "stream",
     "text": [
      "  Number  String Boolean\n",
      "0      1   First    True\n",
      "1      2  Second   False\n",
      "2      3   Third    True\n"
     ]
    }
   ],
   "source": [
    "print(df.drop_duplicates())"
   ]
  },
  {
   "cell_type": "markdown",
   "id": "4c38e3d2",
   "metadata": {},
   "source": [
    "## Manipulando variáveis categóricas"
   ]
  },
  {
   "cell_type": "code",
   "execution_count": 3,
   "id": "e5ba9a1d",
   "metadata": {},
   "outputs": [
    {
     "name": "stdout",
     "output_type": "stream",
     "text": [
      "0     Blue\n",
      "1      Red\n",
      "2    Green\n",
      "dtype: category\n",
      "Categories (3, object): ['Blue', 'Green', 'Red']\n",
      "\n",
      "0      NaN\n",
      "1    Green\n",
      "2      Red\n",
      "3     Blue\n",
      "4      NaN\n",
      "dtype: category\n",
      "Categories (3, object): ['Blue', 'Green', 'Red']\n",
      "\n",
      "0    True\n",
      "4    True\n",
      "dtype: bool\n"
     ]
    }
   ],
   "source": [
    "import pandas as pd\n",
    "\n",
    "car_colors = pd.Series(['Blue', 'Red', 'Green'],\n",
    "                      dtype='category')\n",
    "\n",
    "car_data = pd.Series(\n",
    "    pd.Categorical(\n",
    "        ['Yellow', 'Green', 'Red', 'Blue', 'Purple'],\n",
    "                    categories=car_colors, ordered=False))\n",
    "\n",
    "find_entries = pd.isnull(car_data)\n",
    "\n",
    "print(car_colors)\n",
    "print()\n",
    "print(car_data)\n",
    "print()\n",
    "print(find_entries[find_entries == True])"
   ]
  },
  {
   "cell_type": "markdown",
   "id": "e5565b77",
   "metadata": {},
   "source": [
    "Em resumo, este código mostra como trabalhar com dados de séries categóricas no pandas e como verificar se há valores nulos em uma série categórica usando a função pd.isnull()"
   ]
  },
  {
   "cell_type": "markdown",
   "id": "d5cceb54",
   "metadata": {},
   "source": [
    "### Combinando níveis"
   ]
  },
  {
   "cell_type": "code",
   "execution_count": 4,
   "id": "e4c88cf1",
   "metadata": {},
   "outputs": [
    {
     "name": "stdout",
     "output_type": "stream",
     "text": [
      "2    Red\n",
      "4    Red\n",
      "dtype: category\n",
      "Categories (4, object): ['Blue', 'Red', 'Green', 'Blue_Red']\n",
      "\n",
      "0    Blue_Red\n",
      "1       Green\n",
      "2    Blue_Red\n",
      "3       Green\n",
      "4    Blue_Red\n",
      "5       Green\n",
      "dtype: category\n",
      "Categories (2, object): ['Green', 'Blue_Red']\n"
     ]
    }
   ],
   "source": [
    "car_colors = pd.Series(['Blue', 'Red', 'Green'],\n",
    "                      dtype='category')\n",
    "car_data = pd.Series(\n",
    "    pd.Categorical(\n",
    "        ['Blue', 'Green', 'Red', 'Green', 'Red', 'Green'],\n",
    "                    categories=car_colors, ordered=False))\n",
    "\n",
    "car_data = car_data.cat.set_categories(\n",
    "    [\"Blue\", \"Red\", \"Green\", \"Blue_Red\"])\n",
    "\n",
    "print(car_data.loc[car_data.isin(['Red'])])\n",
    "car_data.loc[car_data.isin(['Red'])] = 'Blue_Red'\n",
    "car_data.loc[car_data.isin(['Blue'])] = 'Blue_Red'\n",
    "\n",
    "car_data = car_data.cat.set_categories(\n",
    "    [\"Green\", \"Blue_Red\"])\n",
    "\n",
    "print()\n",
    "print(car_data)\n"
   ]
  },
  {
   "cell_type": "markdown",
   "id": "c16490c2",
   "metadata": {},
   "source": [
    "Como neste exemplo há apenas 1 item Blue, 2 itens Red, mas 3 itens Green, faz-se a junção das categorias Red e Blue em Blue_Red.O código exemplifica como trabalhar com séries categóricas em pandas e como manipulá-las. Ele cria duas séries categóricas: car_colors e car_data. Em seguida, adiciona a categoria \"Blue_Red\" em car_data, que é uma combinação de \"Blue\" e \"Red\". Depois, substitui todos os elementos da série car_data que pertencem às categorias \"Red\" e \"Blue\" pela nova categoria \"Blue_Red\". Por fim, remove as categorias \"Blue\" e \"Red\" da série car_data e deixa apenas as categorias \"Green\" e \"Blue_Red\". O código serve como exemplo de como manipular séries categóricas em pandas e pode ser adaptado para outras situações."
   ]
  },
  {
   "cell_type": "markdown",
   "id": "1f0f1c67",
   "metadata": {},
   "source": [
    "## Lidando com dados ausentes"
   ]
  },
  {
   "cell_type": "markdown",
   "id": "7eb05872",
   "metadata": {},
   "source": [
    "### Encontrando os dados ausentes"
   ]
  },
  {
   "cell_type": "code",
   "execution_count": 5,
   "id": "0693ef1e",
   "metadata": {},
   "outputs": [
    {
     "name": "stdout",
     "output_type": "stream",
     "text": [
      "0    False\n",
      "1    False\n",
      "2    False\n",
      "3     True\n",
      "4    False\n",
      "5    False\n",
      "6     True\n",
      "dtype: bool\n",
      "\n",
      "3   NaN\n",
      "6   NaN\n",
      "dtype: float64\n"
     ]
    }
   ],
   "source": [
    "import numpy as np\n",
    "\n",
    "s = pd.Series([1, 2, 3, np.NaN, 5, 6, None])\n",
    "\n",
    "print(s.isnull())\n",
    "\n",
    "print()\n",
    "print(s[s.isnull()])"
   ]
  },
  {
   "cell_type": "markdown",
   "id": "ab603124",
   "metadata": {},
   "source": [
    "Resumindo, o código verifica quais valores da série 's' são nulos ou ausentes e, em seguida, retorna apenas esses valores em uma nova série."
   ]
  },
  {
   "cell_type": "markdown",
   "id": "dbcafd4a",
   "metadata": {},
   "source": [
    "### Inserindo dados ausentes"
   ]
  },
  {
   "cell_type": "code",
   "execution_count": 14,
   "id": "d1839a18",
   "metadata": {},
   "outputs": [
    {
     "name": "stdout",
     "output_type": "stream",
     "text": [
      "0    1.0\n",
      "1    2.0\n",
      "2    3.0\n",
      "3    4.0\n",
      "4    5.0\n",
      "5    6.0\n",
      "6    7.0\n",
      "dtype: float64\n"
     ]
    }
   ],
   "source": [
    "from sklearn.impute import SimpleImputer\n",
    "\n",
    "s = [[1, 2, 3, np.NaN, 5, 6, None]]\n",
    "\n",
    "imp = SimpleImputer(missing_values=np.nan,   # cria um objeto imp da classe SimpleImputer\n",
    "                    strategy='mean')         # especifica que os valores faltantes serão preenchidos com a média\n",
    "imp.fit([[1, 2, 3, 4, 5, 6, 7]])             \n",
    "\n",
    "x = pd.Series(imp.transform(s).tolist()[0])\n",
    "\n",
    "print(x)"
   ]
  },
  {
   "cell_type": "markdown",
   "id": "9f051556",
   "metadata": {},
   "source": [
    "O código trata os valores NaN de um conjunto de dados numéricos, preenchendo-os com a média dos valores existentes."
   ]
  },
  {
   "cell_type": "markdown",
   "id": "53762950",
   "metadata": {},
   "source": [
    "## Concatenando e Transformando"
   ]
  },
  {
   "cell_type": "markdown",
   "id": "8001aefb",
   "metadata": {},
   "source": [
    "(Unir dados de várias fontes)"
   ]
  },
  {
   "cell_type": "markdown",
   "id": "47cbc822",
   "metadata": {},
   "source": [
    "### Adicionando novos casos e variáveis"
   ]
  },
  {
   "cell_type": "code",
   "execution_count": 17,
   "id": "ed95d7e4",
   "metadata": {},
   "outputs": [
    {
     "name": "stdout",
     "output_type": "stream",
     "text": [
      "   A  B  C\n",
      "0  2  1  5\n",
      "1  3  2  3\n",
      "2  1  3  4\n",
      "3  4  4  4\n",
      "\n",
      "   A  B  C\n",
      "0  2  1  5\n",
      "1  3  2  3\n",
      "2  1  3  4\n",
      "3  4  4  4\n",
      "4  5  5  5\n",
      "\n",
      "   A  B  C  D\n",
      "0  2  1  5  1\n",
      "1  3  2  3  2\n",
      "2  1  3  4  3\n",
      "3  4  4  4  4\n",
      "4  5  5  5  5\n"
     ]
    },
    {
     "name": "stderr",
     "output_type": "stream",
     "text": [
      "C:\\Users\\55279\\AppData\\Local\\Temp\\ipykernel_13512\\2737174428.py:9: FutureWarning: The frame.append method is deprecated and will be removed from pandas in a future version. Use pandas.concat instead.\n",
      "  df = df.append(df1)\n"
     ]
    }
   ],
   "source": [
    "df = pd.DataFrame({'A': [2,3,1],\n",
    "                  'B': [1,2,3],\n",
    "                  'C': [5,3,4]})\n",
    "\n",
    "df1 = pd.DataFrame({'A': [4],\n",
    "                  'B': [4],\n",
    "                  'C': [4]})\n",
    "\n",
    "df = df.append(df1)                          # adiciona df1 em df\n",
    "df = df.reset_index(drop = True)             # redefine o índice\n",
    "print(df)\n",
    "\n",
    "df.loc[df.last_valid_index() +1] = [5,5,5]   # adiciona mais uma linha ao df\n",
    "print()\n",
    "print(df)\n",
    "\n",
    "df2 = pd.DataFrame({'D': [1,2,3,4,5]})\n",
    "\n",
    "df = pd.DataFrame.join(df, df2)             # juntas df2 ao df anterior utilizando o método join()\n",
    "print()\n",
    "print(df)"
   ]
  },
  {
   "cell_type": "markdown",
   "id": "99b29715",
   "metadata": {},
   "source": [
    "### Removendo dados"
   ]
  },
  {
   "cell_type": "code",
   "execution_count": 19,
   "id": "abf632e5",
   "metadata": {},
   "outputs": [
    {
     "name": "stdout",
     "output_type": "stream",
     "text": [
      "   A  B  C\n",
      "0  2  1  5\n",
      "2  1  3  4\n",
      "\n",
      "   A  C\n",
      "0  2  5\n",
      "2  1  4\n"
     ]
    },
    {
     "name": "stderr",
     "output_type": "stream",
     "text": [
      "C:\\Users\\55279\\AppData\\Local\\Temp\\ipykernel_13512\\4219053407.py:8: FutureWarning: In a future version of pandas all arguments of DataFrame.drop except for the argument 'labels' will be keyword-only.\n",
      "  df = df.drop('B', 1)\n"
     ]
    }
   ],
   "source": [
    "df = pd.DataFrame({'A': [2,3,1],\n",
    "                  'B': [1,2,3],\n",
    "                  'C': [5,3,4]})\n",
    "\n",
    "df = df.drop(df.index[[1]])\n",
    "print(df)\n",
    "\n",
    "df = df.drop('B', 1)\n",
    "print()\n",
    "print(df)"
   ]
  },
  {
   "cell_type": "markdown",
   "id": "3a0e5a0b",
   "metadata": {},
   "source": [
    "O código cria um DataFrame df com três colunas (A, B e C) e três linhas. Em seguida, ele usa o método drop para remover a segunda linha (índice 1) do DataFrame. Isso é feito passando uma lista contendo o índice da linha que deseja ser excluída para o método index.\n",
    "\n",
    "Depois, é usado novamente o método drop, dessa vez para excluir a coluna \"B\". A exclusão é feita passando o nome da coluna e o parâmetro 1, que indica que a coluna deve ser excluída. O resultado é um novo DataFrame com apenas as colunas \"A\" e \"C\"."
   ]
  },
  {
   "cell_type": "markdown",
   "id": "0926cdf3",
   "metadata": {},
   "source": [
    "### Classificando e misturando"
   ]
  },
  {
   "cell_type": "markdown",
   "id": "9fd2472c",
   "metadata": {},
   "source": [
    "(Ordem e desordem dos dados)"
   ]
  },
  {
   "cell_type": "code",
   "execution_count": 23,
   "id": "ce5a5772",
   "metadata": {},
   "outputs": [
    {
     "name": "stdout",
     "output_type": "stream",
     "text": [
      "   A  B  C\n",
      "0  1  2  3\n",
      "1  2  1  5\n",
      "2  2  3  4\n",
      "3  3  4  1\n",
      "4  3  5  1\n",
      "5  4  5  3\n",
      "6  5  2  2\n",
      "\n",
      "   A  B  C\n",
      "0  1  2  3\n",
      "1  2  1  5\n",
      "2  2  3  4\n",
      "3  3  4  1\n",
      "4  3  5  1\n",
      "5  4  5  3\n",
      "6  5  2  2\n"
     ]
    }
   ],
   "source": [
    "df = pd.DataFrame({'A': [2,1,2,3,3,5,4],\n",
    "                  'B': [1,2,3,5,4,2,5],\n",
    "                  'C': [5,3,4,1,1,2,3]})\n",
    "\n",
    "#ordena o DataFrame pelos valores da coluna A em ordem crescente e, em caso de valores iguais, pela coluna B em ordem crescente\n",
    "df = df.sort_values(by=['A', 'B'], ascending=[True, True])    \n",
    "\n",
    "df = df.reset_index(drop=True)       #reseta o índice\n",
    "print(df)\n",
    "\n",
    "index = df.index.tolist()\n",
    "np.random.shuffle(index)\n",
    "df.loc[df.index[index]]\n",
    "df = df.reset_index(drop=True)\n",
    "print()\n",
    "print(df)\n"
   ]
  },
  {
   "cell_type": "code",
   "execution_count": null,
   "id": "04b92604",
   "metadata": {},
   "outputs": [],
   "source": []
  }
 ],
 "metadata": {
  "kernelspec": {
   "display_name": "Python 3 (ipykernel)",
   "language": "python",
   "name": "python3"
  },
  "language_info": {
   "codemirror_mode": {
    "name": "ipython",
    "version": 3
   },
   "file_extension": ".py",
   "mimetype": "text/x-python",
   "name": "python",
   "nbconvert_exporter": "python",
   "pygments_lexer": "ipython3",
   "version": "3.9.12"
  }
 },
 "nbformat": 4,
 "nbformat_minor": 5
}
