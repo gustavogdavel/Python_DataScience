{
 "cells": [
  {
   "cell_type": "markdown",
   "id": "9429737f",
   "metadata": {},
   "source": [
    "# Capítulo 6 - Trabalhando com dados reais"
   ]
  },
  {
   "cell_type": "markdown",
   "id": "737fa37e",
   "metadata": {},
   "source": [
    "## Código para carregar uma pequena quantidade de dados na memória"
   ]
  },
  {
   "cell_type": "code",
   "execution_count": 8,
   "id": "77b04cb3",
   "metadata": {
    "scrolled": true
   },
   "outputs": [
    {
     "name": "stdout",
     "output_type": "stream",
     "text": [
      "colors.txt content:\n",
      "Color\tValue\n",
      "Red\t1\n",
      "Orange\t2\n",
      "Yellow\t3\n",
      "Green\t4\n",
      "Blue\t5\n",
      "Purple\t6\n",
      "Black\t7\n",
      "White\t8\n"
     ]
    }
   ],
   "source": [
    "with open('colors.txt', 'r') as open_file:\n",
    "    print('colors.txt content:\\n' + open_file.read())"
   ]
  },
  {
   "cell_type": "markdown",
   "id": "eb39b58c",
   "metadata": {},
   "source": [
    "## Fazendo streaming de grandes quantidades de dados na memória"
   ]
  },
  {
   "cell_type": "markdown",
   "id": "6022a513",
   "metadata": {},
   "source": [
    "Alguns conjuntos de dados serão muito grandes para se carregar na memória, então sua leitura pode ser feita conforme a necessidade, como no exemplo a seguir:"
   ]
  },
  {
   "cell_type": "code",
   "execution_count": 9,
   "id": "21158a44",
   "metadata": {},
   "outputs": [
    {
     "name": "stdout",
     "output_type": "stream",
     "text": [
      "Reading Data: Color\tValue\n",
      "\n",
      "Reading Data: Red\t1\n",
      "\n",
      "Reading Data: Orange\t2\n",
      "\n",
      "Reading Data: Yellow\t3\n",
      "\n",
      "Reading Data: Green\t4\n",
      "\n",
      "Reading Data: Blue\t5\n",
      "\n",
      "Reading Data: Purple\t6\n",
      "\n",
      "Reading Data: Black\t7\n",
      "\n",
      "Reading Data: White\t8\n"
     ]
    }
   ],
   "source": [
    "with open('colors.txt', 'r') as open_file:\n",
    "    for observation in open_file:\n",
    "        print('Reading Data: ' + observation)"
   ]
  },
  {
   "cell_type": "markdown",
   "id": "2574cacd",
   "metadata": {},
   "source": [
    "Neste caso, as linhas foram lidas a cada loop que o for realizava, sendo possível limitar a quantidade de loops se necessário."
   ]
  },
  {
   "cell_type": "markdown",
   "id": "e953bec5",
   "metadata": {},
   "source": [
    "## Lendo a partir de um arquivo de texto"
   ]
  },
  {
   "cell_type": "markdown",
   "id": "e0599500",
   "metadata": {},
   "source": [
    "Usando o método read_table() do pandas:"
   ]
  },
  {
   "cell_type": "code",
   "execution_count": 11,
   "id": "12395b5f",
   "metadata": {},
   "outputs": [
    {
     "name": "stdout",
     "output_type": "stream",
     "text": [
      "    Color  Value\n",
      "0     Red      1\n",
      "1  Orange      2\n",
      "2  Yellow      3\n",
      "3   Green      4\n",
      "4    Blue      5\n",
      "5  Purple      6\n",
      "6   Black      7\n",
      "7   White      8\n"
     ]
    }
   ],
   "source": [
    "import pandas as pd\n",
    "color_table = pd.io.parsers.read_table(\"colors.txt\")\n",
    "print(color_table)"
   ]
  },
  {
   "cell_type": "markdown",
   "id": "03fc5fba",
   "metadata": {},
   "source": [
    "Após uma rápida pesquisa, vi quea função read_table() pode ser substituído pela função read_csv(), tendo sua saída demonstrada a seguir\n"
   ]
  },
  {
   "cell_type": "code",
   "execution_count": 13,
   "id": "b09c3e04",
   "metadata": {},
   "outputs": [
    {
     "data": {
      "text/html": [
       "<div>\n",
       "<style scoped>\n",
       "    .dataframe tbody tr th:only-of-type {\n",
       "        vertical-align: middle;\n",
       "    }\n",
       "\n",
       "    .dataframe tbody tr th {\n",
       "        vertical-align: top;\n",
       "    }\n",
       "\n",
       "    .dataframe thead th {\n",
       "        text-align: right;\n",
       "    }\n",
       "</style>\n",
       "<table border=\"1\" class=\"dataframe\">\n",
       "  <thead>\n",
       "    <tr style=\"text-align: right;\">\n",
       "      <th></th>\n",
       "      <th>Color</th>\n",
       "      <th>Value</th>\n",
       "    </tr>\n",
       "  </thead>\n",
       "  <tbody>\n",
       "    <tr>\n",
       "      <th>0</th>\n",
       "      <td>Red</td>\n",
       "      <td>1</td>\n",
       "    </tr>\n",
       "    <tr>\n",
       "      <th>1</th>\n",
       "      <td>Orange</td>\n",
       "      <td>2</td>\n",
       "    </tr>\n",
       "    <tr>\n",
       "      <th>2</th>\n",
       "      <td>Yellow</td>\n",
       "      <td>3</td>\n",
       "    </tr>\n",
       "    <tr>\n",
       "      <th>3</th>\n",
       "      <td>Green</td>\n",
       "      <td>4</td>\n",
       "    </tr>\n",
       "    <tr>\n",
       "      <th>4</th>\n",
       "      <td>Blue</td>\n",
       "      <td>5</td>\n",
       "    </tr>\n",
       "    <tr>\n",
       "      <th>5</th>\n",
       "      <td>Purple</td>\n",
       "      <td>6</td>\n",
       "    </tr>\n",
       "    <tr>\n",
       "      <th>6</th>\n",
       "      <td>Black</td>\n",
       "      <td>7</td>\n",
       "    </tr>\n",
       "    <tr>\n",
       "      <th>7</th>\n",
       "      <td>White</td>\n",
       "      <td>8</td>\n",
       "    </tr>\n",
       "  </tbody>\n",
       "</table>\n",
       "</div>"
      ],
      "text/plain": [
       "    Color  Value\n",
       "0     Red      1\n",
       "1  Orange      2\n",
       "2  Yellow      3\n",
       "3   Green      4\n",
       "4    Blue      5\n",
       "5  Purple      6\n",
       "6   Black      7\n",
       "7   White      8"
      ]
     },
     "execution_count": 13,
     "metadata": {},
     "output_type": "execute_result"
    }
   ],
   "source": [
    "pd.read_csv(\"colors.txt\", delimiter=\"\\t\")  # usando o delimitador tab para separação das colunas"
   ]
  },
  {
   "cell_type": "markdown",
   "id": "ba07d45b",
   "metadata": {},
   "source": [
    "# Lendo formato delimitado CSV"
   ]
  },
  {
   "cell_type": "markdown",
   "id": "f976a1a4",
   "metadata": {},
   "source": [
    "Um arquivo csv possui mais formatação que um arquivo de texto simples. O arquivo usado neste exemplo possui a seguinte formatação:\n",
    "- Um título define cada um dos campos\n",
    "- Os campos são separados por vírgula\n",
    "- Os registros são separados por quebra de linha(\\n)\n",
    "- As strings ficam entre aspas\n",
    "- Números inteiros e reais aparecem sem aspas"
   ]
  },
  {
   "cell_type": "code",
   "execution_count": 17,
   "id": "d9e2ff11",
   "metadata": {},
   "outputs": [
    {
     "data": {
      "text/html": [
       "<div>\n",
       "<style scoped>\n",
       "    .dataframe tbody tr th:only-of-type {\n",
       "        vertical-align: middle;\n",
       "    }\n",
       "\n",
       "    .dataframe tbody tr th {\n",
       "        vertical-align: top;\n",
       "    }\n",
       "\n",
       "    .dataframe thead th {\n",
       "        text-align: right;\n",
       "    }\n",
       "</style>\n",
       "<table border=\"1\" class=\"dataframe\">\n",
       "  <thead>\n",
       "    <tr style=\"text-align: right;\">\n",
       "      <th></th>\n",
       "      <th>age</th>\n",
       "    </tr>\n",
       "  </thead>\n",
       "  <tbody>\n",
       "    <tr>\n",
       "      <th>0</th>\n",
       "      <td>29.0000</td>\n",
       "    </tr>\n",
       "    <tr>\n",
       "      <th>1</th>\n",
       "      <td>0.9167</td>\n",
       "    </tr>\n",
       "    <tr>\n",
       "      <th>2</th>\n",
       "      <td>2.0000</td>\n",
       "    </tr>\n",
       "    <tr>\n",
       "      <th>3</th>\n",
       "      <td>30.0000</td>\n",
       "    </tr>\n",
       "    <tr>\n",
       "      <th>4</th>\n",
       "      <td>25.0000</td>\n",
       "    </tr>\n",
       "    <tr>\n",
       "      <th>...</th>\n",
       "      <td>...</td>\n",
       "    </tr>\n",
       "    <tr>\n",
       "      <th>1304</th>\n",
       "      <td>14.5000</td>\n",
       "    </tr>\n",
       "    <tr>\n",
       "      <th>1305</th>\n",
       "      <td>9999.0000</td>\n",
       "    </tr>\n",
       "    <tr>\n",
       "      <th>1306</th>\n",
       "      <td>26.5000</td>\n",
       "    </tr>\n",
       "    <tr>\n",
       "      <th>1307</th>\n",
       "      <td>27.0000</td>\n",
       "    </tr>\n",
       "    <tr>\n",
       "      <th>1308</th>\n",
       "      <td>29.0000</td>\n",
       "    </tr>\n",
       "  </tbody>\n",
       "</table>\n",
       "<p>1309 rows × 1 columns</p>\n",
       "</div>"
      ],
      "text/plain": [
       "            age\n",
       "0       29.0000\n",
       "1        0.9167\n",
       "2        2.0000\n",
       "3       30.0000\n",
       "4       25.0000\n",
       "...         ...\n",
       "1304    14.5000\n",
       "1305  9999.0000\n",
       "1306    26.5000\n",
       "1307    27.0000\n",
       "1308    29.0000\n",
       "\n",
       "[1309 rows x 1 columns]"
      ]
     },
     "execution_count": 17,
     "metadata": {},
     "output_type": "execute_result"
    }
   ],
   "source": [
    "import pandas as pd\n",
    "titanic = pd.read_csv(\"Titanic.csv\")\n",
    "titanic[['age']]"
   ]
  },
  {
   "cell_type": "markdown",
   "id": "202d65a8",
   "metadata": {},
   "source": [
    "__Nota__: titanic['age'] e titanic[['age']] fornecem saídas diferentes, sendo uma _Series_ e um _DataFrame_, respectivamente"
   ]
  },
  {
   "cell_type": "code",
   "execution_count": 19,
   "id": "b16e0306",
   "metadata": {},
   "outputs": [
    {
     "data": {
      "text/plain": [
       "array([[29.        ],\n",
       "       [ 0.91670001],\n",
       "       [ 2.        ],\n",
       "       ...,\n",
       "       [26.5       ],\n",
       "       [27.        ],\n",
       "       [29.        ]])"
      ]
     },
     "execution_count": 19,
     "metadata": {},
     "output_type": "execute_result"
    }
   ],
   "source": [
    "# Caso queira que a saída seja uma lista com os valores:\n",
    "titanic[['age']].values"
   ]
  },
  {
   "cell_type": "markdown",
   "id": "8481694e",
   "metadata": {},
   "source": [
    "## Bancos de dados relacionais"
   ]
  },
  {
   "cell_type": "markdown",
   "id": "00f661c7",
   "metadata": {},
   "source": [
    "Criar uma conexão com um banco de dados não é uma tarefa tão simples, mas pode ser quebrada em pequenas etapas. A primeira etapa é conseguir acesso ao armazenamento, segue:"
   ]
  },
  {
   "cell_type": "code",
   "execution_count": 20,
   "id": "3b71ad5f",
   "metadata": {},
   "outputs": [],
   "source": [
    "from sqlalchemy import create_engine\n",
    "engine = create_engine('sqlite:///:memory:')"
   ]
  },
  {
   "cell_type": "markdown",
   "id": "dfc74bc8",
   "metadata": {},
   "source": [
    "Após conseguir acesso, use-o para fazer consultas e análises. O métodos mais utilizados são:\n",
    "- __read_sql_table()__: Lê dados de uma tabela para um DataFrame\n",
    "- __read_sql_query()__: Lê dados de um banco de dados usando um sql Query para um DataFrame\n",
    "- __DataFrame.to_sql()__: Escreve o conteúdo de um DataGrame em um banco de dados\n",
    "\n",
    "A biblioteca \"Sqlalchemy\" fornece suporte para muitos bancos de dados como: SQLite, MySql, PostgreSQL, SQL Server, etc..."
   ]
  },
  {
   "cell_type": "code",
   "execution_count": null,
   "id": "571b8480",
   "metadata": {},
   "outputs": [],
   "source": []
  }
 ],
 "metadata": {
  "kernelspec": {
   "display_name": "Python 3 (ipykernel)",
   "language": "python",
   "name": "python3"
  },
  "language_info": {
   "codemirror_mode": {
    "name": "ipython",
    "version": 3
   },
   "file_extension": ".py",
   "mimetype": "text/x-python",
   "name": "python",
   "nbconvert_exporter": "python",
   "pygments_lexer": "ipython3",
   "version": "3.9.12"
  }
 },
 "nbformat": 4,
 "nbformat_minor": 5
}
